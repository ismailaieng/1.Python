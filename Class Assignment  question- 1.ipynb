{
 "cells": [
  {
   "cell_type": "code",
   "execution_count": 2,
   "metadata": {},
   "outputs": [],
   "source": [
    "# Create a class and function, and list out the items in the list"
   ]
  },
  {
   "cell_type": "code",
   "execution_count": 10,
   "metadata": {},
   "outputs": [],
   "source": [
    "class SubfieldsinAI():\n",
    "    def Subfields():\n",
    "       # Lists= input(\"Machine Learning,Neural Networks,Vision,Robotics,Speech Processing,Natural Language Processing\")\n",
    "        print(\"Sub-Fields in AI are:\")\n",
    "        print(\"Machine Learning\")\n",
    "        print(\"Neural Networks\")\n",
    "        print(\"Vision\")\n",
    "        print(\"Robotics\")\n",
    "        print(\"Speech Processing\")\n",
    "        print(\"Natural Language Processing\")\n",
    "        "
   ]
  },
  {
   "cell_type": "code",
   "execution_count": 11,
   "metadata": {},
   "outputs": [
    {
     "name": "stdout",
     "output_type": "stream",
     "text": [
      "Sub-Fields in AI are:\n",
      "Machine Learning\n",
      "Neural Networks\n",
      "Vision\n",
      "Robotics\n",
      "Speech Processing\n",
      "Natural Language Processing\n"
     ]
    }
   ],
   "source": [
    "SubfieldsinAI.Subfields()"
   ]
  },
  {
   "cell_type": "code",
   "execution_count": 5,
   "metadata": {},
   "outputs": [],
   "source": [
    "# Create a function that checks whether the given number is Odd or Even"
   ]
  },
  {
   "cell_type": "code",
   "execution_count": 8,
   "metadata": {},
   "outputs": [],
   "source": [
    "class oddeven():\n",
    "    def oddeven():\n",
    "        num = int(input(\"Enter a number:\"))\n",
    "        if (num % 2 == 0):\n",
    "            print(f\"{num} is even number\")\n",
    "        else:\n",
    "            print(f\"{num} is odd number\")"
   ]
  },
  {
   "cell_type": "code",
   "execution_count": 9,
   "metadata": {},
   "outputs": [
    {
     "name": "stdout",
     "output_type": "stream",
     "text": [
      "Enter a number:52452\n",
      "52452 is even number\n"
     ]
    }
   ],
   "source": [
    "oddeven.oddeven()"
   ]
  },
  {
   "cell_type": "code",
   "execution_count": 12,
   "metadata": {},
   "outputs": [],
   "source": [
    "# Create a function that tells elegibility of marriage for male \n",
    "#and female according to their age limit like 21 for male and 18 for female"
   ]
  },
  {
   "cell_type": "code",
   "execution_count": 14,
   "metadata": {},
   "outputs": [],
   "source": [
    "class elegibleformarriage():\n",
    "    def elegibile():\n",
    "        a=input(\"Enter your genter:\")\n",
    "        num = int(input(\"Enter the age:\"))    \n",
    "        if(num == 18):\n",
    "            print(\"Female age Elegible for marriage:\")\n",
    "            message=\"female elegible age\"\n",
    "        elif(num == 21):\n",
    "            print(\"Male age elegible for marraige:\")\n",
    "            message = \"males elegible age\"\n",
    "        else:\n",
    "            print(\"not elegible\")\n",
    "            message = \"not elegible\"\n",
    "        return message"
   ]
  },
  {
   "cell_type": "code",
   "execution_count": 16,
   "metadata": {},
   "outputs": [
    {
     "name": "stdout",
     "output_type": "stream",
     "text": [
      "Enter your genter:male\n",
      "Enter the age:20\n",
      "not elegible\n"
     ]
    },
    {
     "data": {
      "text/plain": [
       "'not elegible'"
      ]
     },
     "execution_count": 16,
     "metadata": {},
     "output_type": "execute_result"
    }
   ],
   "source": [
    "elegibleformarriage.elegibile()"
   ]
  },
  {
   "cell_type": "code",
   "execution_count": 17,
   "metadata": {},
   "outputs": [],
   "source": [
    "# calculate the percentage of your 10th mark"
   ]
  },
  {
   "cell_type": "code",
   "execution_count": 18,
   "metadata": {},
   "outputs": [],
   "source": [
    "class findpercentage():\n",
    "    def percentage ():\n",
    "        subject1=int(input(\"subject1=\"))\n",
    "        subject2=int(input(\"subject2=\"))\n",
    "        subject3=int(input(\"subject3=\"))\n",
    "        subject4=int(input(\"subject4=\"))\n",
    "        subject5=int(input(\"subject5=\"))\n",
    "        total=subject1+subject2+subject3+subject4+subject5\n",
    "        percentage = (total/500)*100\n",
    "        print(\"total:=\",total)\n",
    "        print(\"Percentage:=\",percentage)"
   ]
  },
  {
   "cell_type": "code",
   "execution_count": 19,
   "metadata": {},
   "outputs": [
    {
     "name": "stdout",
     "output_type": "stream",
     "text": [
      "subject1=98\n",
      "subject2=87\n",
      "subject3=95\n",
      "subject4=95\n",
      "subject5=93\n",
      "total:= 468\n",
      "Percentage:= 93.60000000000001\n"
     ]
    }
   ],
   "source": [
    "findpercentage.percentage ()"
   ]
  },
  {
   "cell_type": "code",
   "execution_count": 20,
   "metadata": {},
   "outputs": [],
   "source": [
    " #print area and perimeter of triangle using class and functions"
   ]
  },
  {
   "cell_type": "code",
   "execution_count": 21,
   "metadata": {},
   "outputs": [],
   "source": [
    "class triangle():\n",
    "    def triangle():\n",
    "        h=int(input(\"Height = \"))\n",
    "        b=int(input(\"Breadth = \"))\n",
    "        print(\"Area formula:(Height*Breadth)/2\")\n",
    "        Areaoftriangle = (h*b)/2\n",
    "        print(\" Area of triangle =\", Areaoftriangle)\n",
    "        h1=int(input(\"height1 = \"))\n",
    "        h2=int(input(\"height2 = \"))\n",
    "        b1=int(input(\"Breadth = \"))\n",
    "        print(\"Perimeter formula:(Height1+Height2+Breadth)\")\n",
    "        parimeter = h1+h2+b1\n",
    "        print(\"Perimeter of Triange = \",parimeter)"
   ]
  },
  {
   "cell_type": "code",
   "execution_count": 22,
   "metadata": {},
   "outputs": [
    {
     "name": "stdout",
     "output_type": "stream",
     "text": [
      "Height = 32\n",
      "Breadth = 34\n",
      "Area formula:(Height*Breadth)/2\n",
      " Area of triangle = 544.0\n",
      "height1 = 2\n",
      "height2 = 4\n",
      "Breadth = 4\n",
      "Perimeter formula:(Height1+Height2+Breadth)\n",
      "Perimeter of Triange =  10\n"
     ]
    }
   ],
   "source": [
    "triangle.triangle()"
   ]
  },
  {
   "cell_type": "code",
   "execution_count": null,
   "metadata": {},
   "outputs": [],
   "source": []
  }
 ],
 "metadata": {
  "kernelspec": {
   "display_name": "Python 3",
   "language": "python",
   "name": "python3"
  },
  "language_info": {
   "codemirror_mode": {
    "name": "ipython",
    "version": 3
   },
   "file_extension": ".py",
   "mimetype": "text/x-python",
   "name": "python",
   "nbconvert_exporter": "python",
   "pygments_lexer": "ipython3",
   "version": "3.7.4"
  }
 },
 "nbformat": 4,
 "nbformat_minor": 2
}
