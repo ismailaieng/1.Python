{
 "cells": [
  {
   "cell_type": "code",
   "execution_count": 1,
   "metadata": {},
   "outputs": [],
   "source": [
    "# print 'CORRECT' if i == 10"
   ]
  },
  {
   "cell_type": "code",
   "execution_count": 3,
   "metadata": {},
   "outputs": [
    {
     "name": "stdout",
     "output_type": "stream",
     "text": [
      "Enter Value:10\n",
      "CORRECT\n"
     ]
    }
   ],
   "source": [
    "i=int(input(\"Enter Value:\"))\n",
    "if (i==10):\n",
    "    print(\"CORRECT\")\n",
    "else:\n",
    "    print(\"WORNG\")"
   ]
  },
  {
   "cell_type": "code",
   "execution_count": 4,
   "metadata": {},
   "outputs": [],
   "source": [
    "# Check the password, using if and else"
   ]
  },
  {
   "cell_type": "code",
   "execution_count": 8,
   "metadata": {},
   "outputs": [
    {
     "name": "stdout",
     "output_type": "stream",
     "text": [
      "Enter your password:HOPE@123\n",
      "your password is correct\n"
     ]
    }
   ],
   "source": [
    "i=input(\"Enter your password:\")\n",
    "if (i=='HOPE@123'):\n",
    "    print(\"your password is correct\")\n",
    "else:\n",
    "    print(\"your password is wrong\")"
   ]
  },
  {
   "cell_type": "code",
   "execution_count": 9,
   "metadata": {},
   "outputs": [],
   "source": [
    "# Catagory the people by their age like children, adult, citizen, senior citizen..."
   ]
  },
  {
   "cell_type": "code",
   "execution_count": 27,
   "metadata": {},
   "outputs": [
    {
     "name": "stdout",
     "output_type": "stream",
     "text": [
      "age:20\n",
      "adult\n"
     ]
    }
   ],
   "source": [
    "i= int (input(\"age:\"))\n",
    "if(i<20):\n",
    "    print(\"childern\")\n",
    "elif(i<=30):\n",
    "    print(\"adult\")\n",
    "elif(i<=45):\n",
    "    print(\"citizen\")\n",
    "else:\n",
    "    print(\"senior citizen\")"
   ]
  },
  {
   "cell_type": "code",
   "execution_count": null,
   "metadata": {},
   "outputs": [],
   "source": [
    "# Find whether given number is positive or negative"
   ]
  },
  {
   "cell_type": "code",
   "execution_count": 32,
   "metadata": {},
   "outputs": [
    {
     "name": "stdout",
     "output_type": "stream",
     "text": [
      "enter the number:-7\n",
      "No is Negative\n"
     ]
    }
   ],
   "source": [
    "n=int(input(\"enter the number:\"))\n",
    "if n > 0:\n",
    "        print(\"No is Positive\")\n",
    "elif n < 0:\n",
    "        print(\"No is Negative\")\n",
    "else:\n",
    "      print(\"No is zero\")"
   ]
  },
  {
   "cell_type": "code",
   "execution_count": 33,
   "metadata": {},
   "outputs": [],
   "source": [
    "# Check whether the given number is divisible by 5"
   ]
  },
  {
   "cell_type": "code",
   "execution_count": 35,
   "metadata": {},
   "outputs": [
    {
     "name": "stdout",
     "output_type": "stream",
     "text": [
      "enter the number to check:22\n",
      "No is not divisible by 5\n"
     ]
    }
   ],
   "source": [
    "n=int(input(\"enter the number to check:\"))\n",
    "if n % 5 ==0:\n",
    "        print(\"No is divisible by 5\")\n",
    "else:\n",
    "      print(\"No is not divisible by 5\")"
   ]
  },
  {
   "cell_type": "code",
   "execution_count": null,
   "metadata": {},
   "outputs": [],
   "source": []
  },
  {
   "cell_type": "code",
   "execution_count": null,
   "metadata": {},
   "outputs": [],
   "source": []
  }
 ],
 "metadata": {
  "kernelspec": {
   "display_name": "Python 3",
   "language": "python",
   "name": "python3"
  },
  "language_info": {
   "codemirror_mode": {
    "name": "ipython",
    "version": 3
   },
   "file_extension": ".py",
   "mimetype": "text/x-python",
   "name": "python",
   "nbconvert_exporter": "python",
   "pygments_lexer": "ipython3",
   "version": "3.7.4"
  }
 },
 "nbformat": 4,
 "nbformat_minor": 2
}
