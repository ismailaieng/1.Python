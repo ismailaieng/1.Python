{
 "cells": [
  {
   "cell_type": "code",
   "execution_count": 2,
   "metadata": {},
   "outputs": [
    {
     "name": "stdout",
     "output_type": "stream",
     "text": [
      "Welcome to Assignment-1\n"
     ]
    }
   ],
   "source": [
    "print(\"Welcome to Assignment-1\")"
   ]
  },
  {
   "cell_type": "code",
   "execution_count": null,
   "metadata": {},
   "outputs": [],
   "source": []
  },
  {
   "cell_type": "code",
   "execution_count": 4,
   "metadata": {},
   "outputs": [
    {
     "name": "stdout",
     "output_type": "stream",
     "text": [
      "Num1=10\n",
      "Num2=30\n",
      "Add =  40\n"
     ]
    }
   ],
   "source": [
    "num1 = int (input (\"Num1=\"))\n",
    "num2= int (input(\"Num2=\"))\n",
    "add = num1 + num2\n",
    "print (\"Add = \",add)"
   ]
  },
  {
   "cell_type": "code",
   "execution_count": 9,
   "metadata": {},
   "outputs": [
    {
     "name": "stdout",
     "output_type": "stream",
     "text": [
      "Enter the BMI Value :17\n",
      "you are in underweight\n"
     ]
    }
   ],
   "source": [
    "num = int(input(\"Enter the BMI Value :\"))\n",
    "if (num<18.5):\n",
    "    print(\"you are in underweight\")\n",
    "elif(num<25):\n",
    "    print(\"you are in normalweight\")\n",
    "elif(num<30):\n",
    "    print(\"you are in Overwight\")\n",
    "elif(num<35):\n",
    "    print(\"you are in obese class1\")\n",
    "elif(num<40):\n",
    "    print(\"you are in obese class2\")\n",
    "else:\n",
    "    print(\"you are  in obese class3\")\n",
    "    "
   ]
  },
  {
   "cell_type": "code",
   "execution_count": null,
   "metadata": {},
   "outputs": [],
   "source": []
  }
 ],
 "metadata": {
  "kernelspec": {
   "display_name": "Python 3",
   "language": "python",
   "name": "python3"
  },
  "language_info": {
   "codemirror_mode": {
    "name": "ipython",
    "version": 3
   },
   "file_extension": ".py",
   "mimetype": "text/x-python",
   "name": "python",
   "nbconvert_exporter": "python",
   "pygments_lexer": "ipython3",
   "version": "3.7.4"
  }
 },
 "nbformat": 4,
 "nbformat_minor": 2
}
